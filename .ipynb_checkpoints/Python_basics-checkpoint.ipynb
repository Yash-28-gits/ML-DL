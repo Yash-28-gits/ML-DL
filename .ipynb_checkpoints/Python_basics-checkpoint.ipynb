{
 "cells": [
  {
   "cell_type": "markdown",
   "id": "b764a702-bb82-47ae-be65-7d7f7e0d4dd9",
   "metadata": {},
   "source": [
    "Data Types in Python"
   ]
  },
  {
   "cell_type": "code",
   "execution_count": 6,
   "id": "7b2fdd15-b1ad-42df-b359-60f1d26636ee",
   "metadata": {},
   "outputs": [
    {
     "data": {
      "text/plain": [
       "(2, 20, 5.0, 4)"
      ]
     },
     "execution_count": 6,
     "metadata": {},
     "output_type": "execute_result"
    }
   ],
   "source": [
    "1+1,4*5,10/2,2**2"
   ]
  },
  {
   "cell_type": "code",
   "execution_count": 10,
   "id": "8fc01667-9c05-4be5-af9d-6abb35fd6c9c",
   "metadata": {},
   "outputs": [
    {
     "data": {
      "text/plain": [
       "(int, str, bool, float)"
      ]
     },
     "execution_count": 10,
     "metadata": {},
     "output_type": "execute_result"
    }
   ],
   "source": [
    "type(1),type(\"Hello\"),type(True),type(2.3)"
   ]
  },
  {
   "cell_type": "markdown",
   "id": "5420f9fd-7da4-4b2d-b768-41daecb83d00",
   "metadata": {},
   "source": [
    "Variable Assignment\n"
   ]
  },
  {
   "cell_type": "code",
   "execution_count": 13,
   "id": "d643edcb-78ba-4887-b921-91fa8a3258c2",
   "metadata": {},
   "outputs": [
    {
     "data": {
      "text/plain": [
       "int"
      ]
     },
     "execution_count": 13,
     "metadata": {},
     "output_type": "execute_result"
    }
   ],
   "source": [
    "a=10\n",
    "type(a)"
   ]
  },
  {
   "cell_type": "code",
   "execution_count": 15,
   "id": "54a401c4-b304-459c-bb5c-da99c75a9b4a",
   "metadata": {},
   "outputs": [
    {
     "data": {
      "text/plain": [
       "str"
      ]
     },
     "execution_count": 15,
     "metadata": {},
     "output_type": "execute_result"
    }
   ],
   "source": [
    "a=\"Hello\"\n",
    "type(a)"
   ]
  },
  {
   "cell_type": "code",
   "execution_count": 19,
   "id": "dcc4d4a1-9a8f-4a04-bf63-be67f81e43de",
   "metadata": {},
   "outputs": [
    {
     "name": "stdout",
     "output_type": "stream",
     "text": [
      "200.5\n"
     ]
    }
   ],
   "source": [
    "a=10\n",
    "b=20\n",
    "print((a*b)+(a/b))"
   ]
  },
  {
   "cell_type": "markdown",
   "id": "e40ebf42-b509-4fd8-9512-0d48ee290297",
   "metadata": {},
   "source": [
    "Various types of printing\n"
   ]
  },
  {
   "cell_type": "code",
   "execution_count": 22,
   "id": "dc0e514f-2b1d-434b-9f0d-628955f70225",
   "metadata": {},
   "outputs": [
    {
     "name": "stdout",
     "output_type": "stream",
     "text": [
      "Hello\n"
     ]
    }
   ],
   "source": [
    "print(\"Hello\")"
   ]
  },
  {
   "cell_type": "code",
   "execution_count": 24,
   "id": "b5f05ef2-1b7d-4b30-ad85-2e8595ef452e",
   "metadata": {},
   "outputs": [],
   "source": [
    "first_name=\"Krish\"\n",
    "last_name=\"Naik\""
   ]
  },
  {
   "cell_type": "code",
   "execution_count": 26,
   "id": "5ff18ccb-0a9b-4390-afb3-a8892060d372",
   "metadata": {},
   "outputs": [
    {
     "name": "stdout",
     "output_type": "stream",
     "text": [
      "My first name is Krish and last name is Naik\n",
      "My first name is Krish and last name is Naik\n"
     ]
    }
   ],
   "source": [
    "print(\"My first name is {} and last name is {}\".format(first_name,last_name))\n",
    "print(\"My first name is {first} and last name is {last}\".format(first=first_name,last=last_name))"
   ]
  },
  {
   "cell_type": "markdown",
   "id": "f66cbbed-fc85-441a-80e6-09e86557ffef",
   "metadata": {},
   "source": [
    "Boolean Variables"
   ]
  },
  {
   "cell_type": "code",
   "execution_count": 29,
   "id": "c63a0d6e-4b74-4847-a21d-7773971291e5",
   "metadata": {},
   "outputs": [
    {
     "name": "stdout",
     "output_type": "stream",
     "text": [
      "True False\n"
     ]
    },
    {
     "data": {
      "text/plain": [
       "(bool, bool)"
      ]
     },
     "execution_count": 29,
     "metadata": {},
     "output_type": "execute_result"
    }
   ],
   "source": [
    "print(True,False)\n",
    "type(True),type(False)"
   ]
  },
  {
   "cell_type": "markdown",
   "id": "31b2942d-1413-4afd-8626-066dd8af5e97",
   "metadata": {},
   "source": [
    "Inbuilt Functions\n"
   ]
  },
  {
   "cell_type": "code",
   "execution_count": 32,
   "id": "6ec1a7ad-f025-4927-a946-2fc967d847e7",
   "metadata": {},
   "outputs": [],
   "source": [
    "mystr=\"Krish Naik\""
   ]
  },
  {
   "cell_type": "code",
   "execution_count": 34,
   "id": "7f1de0ca-c6ce-46b1-8779-6ef7853895bb",
   "metadata": {
    "editable": true,
    "slideshow": {
     "slide_type": ""
    },
    "tags": []
   },
   "outputs": [
    {
     "name": "stdout",
     "output_type": "stream",
     "text": [
      "False\n",
      "True\n",
      "False\n",
      "False\n",
      "False\n",
      "False\n",
      "False\n"
     ]
    }
   ],
   "source": [
    "print(mystr.isalnum())\n",
    "print(mystr.istitle())\n",
    "print(mystr.isupper())\n",
    "print(mystr.islower())\n",
    "print(mystr.isspace())\n",
    "print(mystr.endswith('d'))\n",
    "print(mystr.isdigit())"
   ]
  },
  {
   "cell_type": "code",
   "execution_count": null,
   "id": "0b217181-9ba0-455f-9ce1-808de6fb8b5e",
   "metadata": {},
   "outputs": [],
   "source": []
  }
 ],
 "metadata": {
  "kernelspec": {
   "display_name": "Python [conda env:base] *",
   "language": "python",
   "name": "conda-base-py"
  },
  "language_info": {
   "codemirror_mode": {
    "name": "ipython",
    "version": 3
   },
   "file_extension": ".py",
   "mimetype": "text/x-python",
   "name": "python",
   "nbconvert_exporter": "python",
   "pygments_lexer": "ipython3",
   "version": "3.12.7"
  }
 },
 "nbformat": 4,
 "nbformat_minor": 5
}
