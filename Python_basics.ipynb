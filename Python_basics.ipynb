{
 "cells": [
  {
   "cell_type": "markdown",
   "id": "b764a702-bb82-47ae-be65-7d7f7e0d4dd9",
   "metadata": {},
   "source": [
    "Data Types in Python"
   ]
  },
  {
   "cell_type": "code",
   "execution_count": 14,
   "id": "7b2fdd15-b1ad-42df-b359-60f1d26636ee",
   "metadata": {},
   "outputs": [
    {
     "data": {
      "text/plain": [
       "(2, 20, 5.0, 4)"
      ]
     },
     "execution_count": 14,
     "metadata": {},
     "output_type": "execute_result"
    }
   ],
   "source": [
    "1+1,4*5,10/2,2**2"
   ]
  },
  {
   "cell_type": "code",
   "execution_count": 15,
   "id": "8fc01667-9c05-4be5-af9d-6abb35fd6c9c",
   "metadata": {},
   "outputs": [
    {
     "data": {
      "text/plain": [
       "(int, str, bool, float)"
      ]
     },
     "execution_count": 15,
     "metadata": {},
     "output_type": "execute_result"
    }
   ],
   "source": [
    "type(1),type(\"Hello\"),type(True),type(2.3)"
   ]
  },
  {
   "cell_type": "markdown",
   "id": "5420f9fd-7da4-4b2d-b768-41daecb83d00",
   "metadata": {},
   "source": [
    "Variable Assignment\n"
   ]
  },
  {
   "cell_type": "code",
   "execution_count": 16,
   "id": "d643edcb-78ba-4887-b921-91fa8a3258c2",
   "metadata": {},
   "outputs": [
    {
     "data": {
      "text/plain": [
       "int"
      ]
     },
     "execution_count": 16,
     "metadata": {},
     "output_type": "execute_result"
    }
   ],
   "source": [
    "a=10\n",
    "type(a)"
   ]
  },
  {
   "cell_type": "code",
   "execution_count": 17,
   "id": "54a401c4-b304-459c-bb5c-da99c75a9b4a",
   "metadata": {},
   "outputs": [
    {
     "data": {
      "text/plain": [
       "str"
      ]
     },
     "execution_count": 17,
     "metadata": {},
     "output_type": "execute_result"
    }
   ],
   "source": [
    "a=\"Hello\"\n",
    "type(a)"
   ]
  },
  {
   "cell_type": "code",
   "execution_count": 18,
   "id": "dcc4d4a1-9a8f-4a04-bf63-be67f81e43de",
   "metadata": {},
   "outputs": [
    {
     "name": "stdout",
     "output_type": "stream",
     "text": [
      "200.5\n"
     ]
    }
   ],
   "source": [
    "a=10\n",
    "b=20\n",
    "print((a*b)+(a/b))"
   ]
  },
  {
   "cell_type": "markdown",
   "id": "e40ebf42-b509-4fd8-9512-0d48ee290297",
   "metadata": {},
   "source": [
    "Various types of printing\n"
   ]
  },
  {
   "cell_type": "code",
   "execution_count": 19,
   "id": "dc0e514f-2b1d-434b-9f0d-628955f70225",
   "metadata": {},
   "outputs": [
    {
     "name": "stdout",
     "output_type": "stream",
     "text": [
      "Hello\n"
     ]
    }
   ],
   "source": [
    "print(\"Hello\")"
   ]
  },
  {
   "cell_type": "code",
   "execution_count": 20,
   "id": "b5f05ef2-1b7d-4b30-ad85-2e8595ef452e",
   "metadata": {},
   "outputs": [],
   "source": [
    "first_name=\"Krish\"\n",
    "last_name=\"Naik\""
   ]
  },
  {
   "cell_type": "code",
   "execution_count": 21,
   "id": "5ff18ccb-0a9b-4390-afb3-a8892060d372",
   "metadata": {},
   "outputs": [
    {
     "name": "stdout",
     "output_type": "stream",
     "text": [
      "My first name is Krish and last name is Naik\n",
      "My first name is Krish and last name is Naik\n"
     ]
    }
   ],
   "source": [
    "print(\"My first name is {} and last name is {}\".format(first_name,last_name))\n",
    "print(\"My first name is {first} and last name is {last}\".format(first=first_name,last=last_name))"
   ]
  },
  {
   "cell_type": "markdown",
   "id": "f66cbbed-fc85-441a-80e6-09e86557ffef",
   "metadata": {},
   "source": [
    "Boolean Variables"
   ]
  },
  {
   "cell_type": "code",
   "execution_count": 22,
   "id": "c63a0d6e-4b74-4847-a21d-7773971291e5",
   "metadata": {},
   "outputs": [
    {
     "name": "stdout",
     "output_type": "stream",
     "text": [
      "True False\n"
     ]
    },
    {
     "data": {
      "text/plain": [
       "(bool, bool)"
      ]
     },
     "execution_count": 22,
     "metadata": {},
     "output_type": "execute_result"
    }
   ],
   "source": [
    "print(True,False)\n",
    "type(True),type(False)"
   ]
  },
  {
   "cell_type": "markdown",
   "id": "31b2942d-1413-4afd-8626-066dd8af5e97",
   "metadata": {},
   "source": [
    "Inbuilt Functions\n"
   ]
  },
  {
   "cell_type": "code",
   "execution_count": 23,
   "id": "6ec1a7ad-f025-4927-a946-2fc967d847e7",
   "metadata": {},
   "outputs": [],
   "source": [
    "mystr=\"Krish Naik\""
   ]
  },
  {
   "cell_type": "code",
   "execution_count": 24,
   "id": "7f1de0ca-c6ce-46b1-8779-6ef7853895bb",
   "metadata": {
    "editable": true,
    "slideshow": {
     "slide_type": ""
    },
    "tags": []
   },
   "outputs": [
    {
     "name": "stdout",
     "output_type": "stream",
     "text": [
      "False\n",
      "True\n",
      "False\n",
      "False\n",
      "False\n",
      "False\n",
      "False\n"
     ]
    }
   ],
   "source": [
    "print(mystr.isalnum())\n",
    "print(mystr.istitle())\n",
    "print(mystr.isupper())\n",
    "print(mystr.islower())\n",
    "print(mystr.isspace())\n",
    "print(mystr.endswith('d'))\n",
    "print(mystr.isdigit())"
   ]
  },
  {
   "cell_type": "markdown",
   "id": "0b217181-9ba0-455f-9ce1-808de6fb8b5e",
   "metadata": {},
   "source": [
    "here"
   ]
  },
  {
   "cell_type": "code",
   "execution_count": 25,
   "id": "92c90d79",
   "metadata": {},
   "outputs": [
    {
     "name": "stdout",
     "output_type": "stream",
     "text": [
      "Hello\n"
     ]
    }
   ],
   "source": [
    "print(\"Hello\")"
   ]
  },
  {
   "cell_type": "markdown",
   "id": "0bffeb51",
   "metadata": {},
   "source": [
    "Boolean and Logical Operators"
   ]
  },
  {
   "cell_type": "code",
   "execution_count": 4,
   "id": "2046000f",
   "metadata": {},
   "outputs": [
    {
     "data": {
      "text/plain": [
       "(True, False, False)"
      ]
     },
     "execution_count": 4,
     "metadata": {},
     "output_type": "execute_result"
    }
   ],
   "source": [
    "True and True,True and False,False and False"
   ]
  },
  {
   "cell_type": "code",
   "execution_count": 4,
   "id": "d06198e4",
   "metadata": {},
   "outputs": [
    {
     "data": {
      "text/plain": [
       "True"
      ]
     },
     "execution_count": 4,
     "metadata": {},
     "output_type": "execute_result"
    }
   ],
   "source": [
    "str_exm=\"Hello World\"\n",
    "my_str1=\"Krish\"\n",
    "my_str1.isalpha() or str_exm.isnum()"
   ]
  },
  {
   "cell_type": "markdown",
   "id": "18143fdb",
   "metadata": {},
   "source": [
    "List"
   ]
  },
  {
   "cell_type": "code",
   "execution_count": 7,
   "id": "9a62d269",
   "metadata": {},
   "outputs": [
    {
     "data": {
      "text/plain": [
       "list"
      ]
     },
     "execution_count": 7,
     "metadata": {},
     "output_type": "execute_result"
    }
   ],
   "source": [
    "lst=[],lst1=list()\n",
    "type(lst)"
   ]
  },
  {
   "cell_type": "code",
   "execution_count": 11,
   "id": "3365a0e4",
   "metadata": {},
   "outputs": [
    {
     "data": {
      "text/plain": [
       "['Maths', 'Science', 100, 200, 300]"
      ]
     },
     "execution_count": 11,
     "metadata": {},
     "output_type": "execute_result"
    }
   ],
   "source": [
    "list=['Maths','Science',100,200,300]\n",
    "list"
   ]
  },
  {
   "cell_type": "markdown",
   "id": "396622a1",
   "metadata": {},
   "source": [
    "Append"
   ]
  },
  {
   "cell_type": "code",
   "execution_count": 12,
   "id": "5f155604",
   "metadata": {},
   "outputs": [
    {
     "data": {
      "text/plain": [
       "['Krish']"
      ]
     },
     "execution_count": 12,
     "metadata": {},
     "output_type": "execute_result"
    }
   ],
   "source": [
    "lst.append(\"Krish\")\n",
    "lst"
   ]
  },
  {
   "cell_type": "markdown",
   "id": "74f46a03",
   "metadata": {},
   "source": [
    "Insert"
   ]
  },
  {
   "cell_type": "code",
   "execution_count": 20,
   "id": "caca6537",
   "metadata": {},
   "outputs": [
    {
     "data": {
      "text/plain": [
       "['Krish', 'Naik', 'Naik', 'Naik']"
      ]
     },
     "execution_count": 20,
     "metadata": {},
     "output_type": "execute_result"
    }
   ],
   "source": [
    "lst.insert(1,\"Naik\")\n",
    "lst"
   ]
  },
  {
   "cell_type": "code",
   "execution_count": 23,
   "id": "cc2be2f0",
   "metadata": {},
   "outputs": [],
   "source": [
    "lst.remove(\"Naik\")"
   ]
  },
  {
   "cell_type": "code",
   "execution_count": 24,
   "id": "6803bfe9",
   "metadata": {},
   "outputs": [
    {
     "data": {
      "text/plain": [
       "['Krish', 'Naik']"
      ]
     },
     "execution_count": 24,
     "metadata": {},
     "output_type": "execute_result"
    }
   ],
   "source": [
    "lst"
   ]
  },
  {
   "cell_type": "code",
   "execution_count": 26,
   "id": "da08675f",
   "metadata": {},
   "outputs": [
    {
     "data": {
      "text/plain": [
       "'Naik'"
      ]
     },
     "execution_count": 26,
     "metadata": {},
     "output_type": "execute_result"
    }
   ],
   "source": [
    "#indexing\n",
    "lst[1]"
   ]
  },
  {
   "cell_type": "code",
   "execution_count": 27,
   "id": "0222054f",
   "metadata": {},
   "outputs": [
    {
     "data": {
      "text/plain": [
       "300"
      ]
     },
     "execution_count": 27,
     "metadata": {},
     "output_type": "execute_result"
    }
   ],
   "source": [
    "list[4]"
   ]
  },
  {
   "cell_type": "code",
   "execution_count": 28,
   "id": "d9104f71",
   "metadata": {},
   "outputs": [
    {
     "data": {
      "text/plain": [
       "['Krish', 'Naik', 5, 6, 7, 8, 9]"
      ]
     },
     "execution_count": 28,
     "metadata": {},
     "output_type": "execute_result"
    }
   ],
   "source": [
    "lst.extend([5,6,7,8,9])\n",
    "lst"
   ]
  },
  {
   "cell_type": "code",
   "execution_count": 31,
   "id": "e02d9ebf",
   "metadata": {},
   "outputs": [
    {
     "data": {
      "text/plain": [
       "['Krish', 'Naik', 5, 6, 7, 8, 9, ['David', 'Smith']]"
      ]
     },
     "execution_count": 31,
     "metadata": {},
     "output_type": "execute_result"
    }
   ],
   "source": [
    "lst.append(['David','Smith'])\n",
    "lst"
   ]
  },
  {
   "cell_type": "code",
   "execution_count": 32,
   "id": "29269c84",
   "metadata": {},
   "outputs": [
    {
     "data": {
      "text/plain": [
       "['Krish', 'Naik', 5, 6, 7, 8, 9, ['David', 'Smith'], 'David', 'Smith']"
      ]
     },
     "execution_count": 32,
     "metadata": {},
     "output_type": "execute_result"
    }
   ],
   "source": [
    "lst.extend(['David','Smith'])\n",
    "lst"
   ]
  },
  {
   "cell_type": "code",
   "execution_count": 33,
   "id": "6fb84d7a",
   "metadata": {},
   "outputs": [
    {
     "data": {
      "text/plain": [
       "15"
      ]
     },
     "execution_count": 33,
     "metadata": {},
     "output_type": "execute_result"
    }
   ],
   "source": [
    "lst1=[1,2,3,4,5]\n",
    "sum(lst1)"
   ]
  },
  {
   "cell_type": "code",
   "execution_count": 34,
   "id": "9e09cd29",
   "metadata": {},
   "outputs": [
    {
     "data": {
      "text/plain": [
       "['Krish', 'Naik', 5, 6, 7, 8, 9, ['David', 'Smith'], 'David']"
      ]
     },
     "execution_count": 34,
     "metadata": {},
     "output_type": "execute_result"
    }
   ],
   "source": [
    "lst.pop()\n",
    "lst"
   ]
  },
  {
   "cell_type": "code",
   "execution_count": 35,
   "id": "b5ea87f5",
   "metadata": {},
   "outputs": [
    {
     "data": {
      "text/plain": [
       "1"
      ]
     },
     "execution_count": 35,
     "metadata": {},
     "output_type": "execute_result"
    }
   ],
   "source": [
    "lst.count('David')"
   ]
  },
  {
   "cell_type": "code",
   "execution_count": 36,
   "id": "b9db1c71",
   "metadata": {},
   "outputs": [
    {
     "data": {
      "text/plain": [
       "2"
      ]
     },
     "execution_count": 36,
     "metadata": {},
     "output_type": "execute_result"
    }
   ],
   "source": [
    "lst.index(5,0,7)"
   ]
  },
  {
   "cell_type": "code",
   "execution_count": 37,
   "id": "857daef6",
   "metadata": {},
   "outputs": [
    {
     "data": {
      "text/plain": [
       "(1, 5)"
      ]
     },
     "execution_count": 37,
     "metadata": {},
     "output_type": "execute_result"
    }
   ],
   "source": [
    "min(lst1),max(lst1)\n"
   ]
  },
  {
   "cell_type": "code",
   "execution_count": 38,
   "id": "533d355c",
   "metadata": {},
   "outputs": [
    {
     "data": {
      "text/plain": [
       "['Krish',\n",
       " 'Naik',\n",
       " 5,\n",
       " 6,\n",
       " 7,\n",
       " 8,\n",
       " 9,\n",
       " ['David', 'Smith'],\n",
       " 'David',\n",
       " 'Krish',\n",
       " 'Naik',\n",
       " 5,\n",
       " 6,\n",
       " 7,\n",
       " 8,\n",
       " 9,\n",
       " ['David', 'Smith'],\n",
       " 'David',\n",
       " 'Krish',\n",
       " 'Naik',\n",
       " 5,\n",
       " 6,\n",
       " 7,\n",
       " 8,\n",
       " 9,\n",
       " ['David', 'Smith'],\n",
       " 'David',\n",
       " 'Krish',\n",
       " 'Naik',\n",
       " 5,\n",
       " 6,\n",
       " 7,\n",
       " 8,\n",
       " 9,\n",
       " ['David', 'Smith'],\n",
       " 'David',\n",
       " 'Krish',\n",
       " 'Naik',\n",
       " 5,\n",
       " 6,\n",
       " 7,\n",
       " 8,\n",
       " 9,\n",
       " ['David', 'Smith'],\n",
       " 'David']"
      ]
     },
     "execution_count": 38,
     "metadata": {},
     "output_type": "execute_result"
    }
   ],
   "source": [
    "lst*5"
   ]
  },
  {
   "cell_type": "markdown",
   "id": "d4681a9d",
   "metadata": {},
   "source": [
    "Sets"
   ]
  },
  {
   "cell_type": "code",
   "execution_count": 39,
   "id": "284d4b2b",
   "metadata": {},
   "outputs": [
    {
     "name": "stdout",
     "output_type": "stream",
     "text": [
      "set()\n",
      "<class 'set'>\n"
     ]
    }
   ],
   "source": [
    "set_var=set()\n",
    "print(set_var)\n",
    "print(type(set_var))"
   ]
  },
  {
   "cell_type": "code",
   "execution_count": 40,
   "id": "32ec3d14",
   "metadata": {},
   "outputs": [
    {
     "name": "stdout",
     "output_type": "stream",
     "text": [
      "{'Avengers', 'IronMan', 'Hitman'}\n"
     ]
    },
    {
     "data": {
      "text/plain": [
       "set"
      ]
     },
     "execution_count": 40,
     "metadata": {},
     "output_type": "execute_result"
    }
   ],
   "source": [
    "set_var={\"Avengers\",\"IronMan\",\"Hitman\"}\n",
    "print(set_var)\n",
    "type(set_var)"
   ]
  },
  {
   "cell_type": "code",
   "execution_count": 41,
   "id": "ddb6345f",
   "metadata": {},
   "outputs": [
    {
     "data": {
      "text/plain": [
       "{2, 4, 5, 6, 7, 9, 23}"
      ]
     },
     "execution_count": 41,
     "metadata": {},
     "output_type": "execute_result"
    }
   ],
   "source": [
    "set={2,23,4,5,6,6,6,7,9}\n",
    "set"
   ]
  },
  {
   "cell_type": "code",
   "execution_count": 42,
   "id": "c646605a",
   "metadata": {},
   "outputs": [
    {
     "data": {
      "text/plain": [
       "{'Avengers', 'Hitman', 'Hulk', 'IronMan'}"
      ]
     },
     "execution_count": 42,
     "metadata": {},
     "output_type": "execute_result"
    }
   ],
   "source": [
    "#sets does not support indexing\n",
    "#inbulit function in sets\n",
    "set_var.add(\"Hulk\")\n",
    "set_var"
   ]
  },
  {
   "cell_type": "code",
   "execution_count": 43,
   "id": "54211031",
   "metadata": {},
   "outputs": [
    {
     "data": {
      "text/plain": [
       "{'Avengers', 'Hitman', 'Hulk', 'IronMan'}"
      ]
     },
     "execution_count": 43,
     "metadata": {},
     "output_type": "execute_result"
    }
   ],
   "source": [
    "set_var"
   ]
  },
  {
   "cell_type": "code",
   "execution_count": 44,
   "id": "0e1870b5",
   "metadata": {},
   "outputs": [],
   "source": [
    "set1={\"Avengers\",\"IronMan\",\"Hitman\"}\n",
    "set2={\"Avengers\",\"IronMan\",\"Hitman\",\"Hulk2\"}\n"
   ]
  },
  {
   "cell_type": "code",
   "execution_count": 45,
   "id": "959778e6",
   "metadata": {},
   "outputs": [
    {
     "data": {
      "text/plain": [
       "{'Hulk2'}"
      ]
     },
     "execution_count": 45,
     "metadata": {},
     "output_type": "execute_result"
    }
   ],
   "source": [
    "set2.difference(set1)"
   ]
  },
  {
   "cell_type": "code",
   "execution_count": 46,
   "id": "2a3a35c5",
   "metadata": {},
   "outputs": [
    {
     "data": {
      "text/plain": [
       "{'Avengers', 'Hitman', 'Hulk2', 'IronMan'}"
      ]
     },
     "execution_count": 46,
     "metadata": {},
     "output_type": "execute_result"
    }
   ],
   "source": [
    "set2"
   ]
  },
  {
   "cell_type": "code",
   "execution_count": 47,
   "id": "120ce831",
   "metadata": {},
   "outputs": [],
   "source": [
    "set2.difference_update(set1)"
   ]
  },
  {
   "cell_type": "code",
   "execution_count": 48,
   "id": "d1786c54",
   "metadata": {},
   "outputs": [
    {
     "data": {
      "text/plain": [
       "{'Hulk2'}"
      ]
     },
     "execution_count": 48,
     "metadata": {},
     "output_type": "execute_result"
    }
   ],
   "source": [
    "set2"
   ]
  },
  {
   "cell_type": "code",
   "execution_count": 49,
   "id": "505831a1",
   "metadata": {},
   "outputs": [],
   "source": [
    "set1={\"Avengers\",\"IronMan\",\"Hitman\"}\n",
    "set2={\"Avengers\",\"IronMan\",\"Hitman\",\"Hulk2\"}\n"
   ]
  },
  {
   "cell_type": "code",
   "execution_count": 50,
   "id": "348109af",
   "metadata": {},
   "outputs": [
    {
     "data": {
      "text/plain": [
       "{2, 4, 5, 6, 7, 9, 23}"
      ]
     },
     "execution_count": 50,
     "metadata": {},
     "output_type": "execute_result"
    }
   ],
   "source": [
    "set"
   ]
  },
  {
   "cell_type": "markdown",
   "id": "c551af6e",
   "metadata": {},
   "source": [
    "Dictionarioes"
   ]
  },
  {
   "cell_type": "code",
   "execution_count": 51,
   "id": "ed019975",
   "metadata": {},
   "outputs": [
    {
     "data": {
      "text/plain": [
       "dict"
      ]
     },
     "execution_count": 51,
     "metadata": {},
     "output_type": "execute_result"
    }
   ],
   "source": [
    "Dic={}\n",
    "type(Dic)"
   ]
  },
  {
   "cell_type": "code",
   "execution_count": 52,
   "id": "6d81050f",
   "metadata": {},
   "outputs": [
    {
     "name": "stdout",
     "output_type": "stream",
     "text": [
      "Car1\n",
      "Car2\n",
      "Car3\n"
     ]
    }
   ],
   "source": [
    "my_dic={\"Car1\":\"Audi\",\"Car2\":\"BMW\",\"Car3\":\"Mercidies Benz\"}\n",
    "for x in my_dic:\n",
    "    print(x)"
   ]
  },
  {
   "cell_type": "code",
   "execution_count": 54,
   "id": "9627726b",
   "metadata": {},
   "outputs": [
    {
     "name": "stdout",
     "output_type": "stream",
     "text": [
      "Audi\n",
      "BMW\n",
      "Mercidies Benz\n"
     ]
    }
   ],
   "source": [
    "for x in my_dic.values():\n",
    "    print(x)"
   ]
  },
  {
   "cell_type": "code",
   "execution_count": 55,
   "id": "fc5a5642",
   "metadata": {},
   "outputs": [
    {
     "name": "stdout",
     "output_type": "stream",
     "text": [
      "('Car1', 'Audi')\n",
      "('Car2', 'BMW')\n",
      "('Car3', 'Mercidies Benz')\n"
     ]
    }
   ],
   "source": [
    "for x in my_dic.items():\n",
    "    print(x)"
   ]
  },
  {
   "cell_type": "code",
   "execution_count": 56,
   "id": "1cba8766",
   "metadata": {},
   "outputs": [
    {
     "data": {
      "text/plain": [
       "{'Car1': 'Audi', 'Car2': 'BMW', 'Car3': 'Mercidies Benz', 'Car4': 'Audi 2.0'}"
      ]
     },
     "execution_count": 56,
     "metadata": {},
     "output_type": "execute_result"
    }
   ],
   "source": [
    "my_dic['Car4']='Audi 2.0'\n",
    "my_dic"
   ]
  },
  {
   "cell_type": "code",
   "execution_count": 57,
   "id": "642afd55",
   "metadata": {},
   "outputs": [
    {
     "data": {
      "text/plain": [
       "{'Car1': 'Maruti', 'Car2': 'BMW', 'Car3': 'Mercidies Benz', 'Car4': 'Audi 2.0'}"
      ]
     },
     "execution_count": 57,
     "metadata": {},
     "output_type": "execute_result"
    }
   ],
   "source": [
    "my_dic['Car1']='Maruti'\n",
    "my_dic"
   ]
  },
  {
   "cell_type": "markdown",
   "id": "aff3901f",
   "metadata": {},
   "source": [
    "Nested Dictionary"
   ]
  },
  {
   "cell_type": "code",
   "execution_count": 58,
   "id": "47a558d6",
   "metadata": {},
   "outputs": [
    {
     "name": "stdout",
     "output_type": "stream",
     "text": [
      "{'car1': {'Mercedes': 1960}, 'car2': {'Audi': 1970}, 'car3': {'Ambassador': 1980}}\n"
     ]
    }
   ],
   "source": [
    "car1_model={'Mercedes':1960}\n",
    "car2_model={'Audi':1970}\n",
    "car3_model={'Ambassador':1980}\n",
    "car_type={'car1':car1_model,'car2':car2_model,'car3':car3_model}\n",
    "print(car_type)"
   ]
  },
  {
   "cell_type": "code",
   "execution_count": 61,
   "id": "104bd17a",
   "metadata": {},
   "outputs": [
    {
     "name": "stdout",
     "output_type": "stream",
     "text": [
      "{'Mercedes': 1960}\n",
      "1960\n"
     ]
    }
   ],
   "source": [
    "print(car_type['car1'])\n",
    "print(car_type['car1']['Mercedes'])"
   ]
  },
  {
   "cell_type": "markdown",
   "id": "829a0f9e",
   "metadata": {},
   "source": [
    "Tuples"
   ]
  },
  {
   "cell_type": "code",
   "execution_count": 62,
   "id": "729f49b1",
   "metadata": {},
   "outputs": [
    {
     "data": {
      "text/plain": [
       "tuple"
      ]
     },
     "execution_count": 62,
     "metadata": {},
     "output_type": "execute_result"
    }
   ],
   "source": [
    "my_tuples=tuple()\n",
    "type(my_tuples)"
   ]
  },
  {
   "cell_type": "code",
   "execution_count": 63,
   "id": "f6a0df81",
   "metadata": {},
   "outputs": [
    {
     "data": {
      "text/plain": [
       "'Krish'"
      ]
     },
     "execution_count": 63,
     "metadata": {},
     "output_type": "execute_result"
    }
   ],
   "source": [
    "my_tuple=(\"Krish\",\"Naik\",\"AI\")\n",
    "my_tuple[0]"
   ]
  },
  {
   "cell_type": "code",
   "execution_count": 64,
   "id": "5ee273f6",
   "metadata": {},
   "outputs": [
    {
     "ename": "TypeError",
     "evalue": "'tuple' object does not support item assignment",
     "output_type": "error",
     "traceback": [
      "\u001b[1;31m---------------------------------------------------------------------------\u001b[0m",
      "\u001b[1;31mTypeError\u001b[0m                                 Traceback (most recent call last)",
      "Cell \u001b[1;32mIn[64], line 1\u001b[0m\n\u001b[1;32m----> 1\u001b[0m \u001b[43mmy_tuple\u001b[49m\u001b[43m[\u001b[49m\u001b[38;5;241;43m0\u001b[39;49m\u001b[43m]\u001b[49m\u001b[38;5;241m=\u001b[39m\u001b[38;5;124m\"\u001b[39m\u001b[38;5;124mMachine\u001b[39m\u001b[38;5;124m\"\u001b[39m\n",
      "\u001b[1;31mTypeError\u001b[0m: 'tuple' object does not support item assignment"
     ]
    }
   ],
   "source": [
    "#Tuple is immutable\n",
    "my_tuple[0]=\"Machine\""
   ]
  },
  {
   "cell_type": "code",
   "execution_count": 65,
   "id": "ad9bf8b2",
   "metadata": {},
   "outputs": [
    {
     "data": {
      "text/plain": [
       "1"
      ]
     },
     "execution_count": 65,
     "metadata": {},
     "output_type": "execute_result"
    }
   ],
   "source": [
    "my_tuple.count('Krish')"
   ]
  },
  {
   "cell_type": "code",
   "execution_count": 66,
   "id": "0823554a",
   "metadata": {},
   "outputs": [
    {
     "data": {
      "text/plain": [
       "1"
      ]
     },
     "execution_count": 66,
     "metadata": {},
     "output_type": "execute_result"
    }
   ],
   "source": [
    "my_tuple.index('Naik')"
   ]
  },
  {
   "cell_type": "code",
   "execution_count": null,
   "id": "81d2f732",
   "metadata": {},
   "outputs": [],
   "source": []
  }
 ],
 "metadata": {
  "kernelspec": {
   "display_name": "ml_env",
   "language": "python",
   "name": "python3"
  },
  "language_info": {
   "codemirror_mode": {
    "name": "ipython",
    "version": 3
   },
   "file_extension": ".py",
   "mimetype": "text/x-python",
   "name": "python",
   "nbconvert_exporter": "python",
   "pygments_lexer": "ipython3",
   "version": "3.9.21"
  }
 },
 "nbformat": 4,
 "nbformat_minor": 5
}
